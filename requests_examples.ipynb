{
 "cells": [
  {
   "cell_type": "markdown",
   "id": "e1cc88c5-eb54-42e6-b5e5-333848f1186f",
   "metadata": {},
   "source": [
    "# Requests Introduction: Examples"
   ]
  },
  {
   "cell_type": "markdown",
   "id": "1d2553e2-df3f-47cc-8b9b-a7df199563af",
   "metadata": {},
   "source": [
    "This notebook is intended to give you an introduction to the basic functionalities of the **`requests`** library.  \n",
    "\n",
    "The following topics will be covered:  \n",
    "\n",
    "1. **Setup and Introduction**  \n",
    "2. **Response Objects**  \n",
    "3. **Query Parameters**  \n",
    "4. **JSON Responses**  \n",
    "5. **Error Handling (Status Codes)**\n",
    "\n",
    "For the purpose of this notebook, we will use the **Agify API**, which estimates the age of a person based on their name.  \n",
    "\n",
    "This API is simple and free, and it will be sufficient to get a basic understanding of the **`requests`** library."
   ]
  },
  {
   "cell_type": "markdown",
   "id": "2c28f1f5-ec37-4033-a9a3-a57fb977779e",
   "metadata": {},
   "source": [
    "#"
   ]
  },
  {
   "cell_type": "markdown",
   "id": "63f9988e-e05f-4c48-86ec-25118a22c948",
   "metadata": {},
   "source": [
    "## 1. Setup and Introduction"
   ]
  },
  {
   "cell_type": "markdown",
   "id": "124b2115-4b7b-47d4-a2c0-2e742053bc5d",
   "metadata": {},
   "source": [
    "The **`requests`** library is not native to Python, so we need to start by importing it:  \n",
    "\n",
    "```python\n",
    "import requests"
   ]
  },
  {
   "cell_type": "markdown",
   "id": "800373cf-de8b-4ca0-981b-be0d885414c8",
   "metadata": {},
   "source": [
    "If you don’t have **`requests`** installed, run the following in a code cell:\n",
    "\n",
    "pip install requests"
   ]
  },
  {
   "cell_type": "code",
   "execution_count": 24,
   "id": "c4b34b77-2ce1-43f2-9dd7-ed3a78faafe7",
   "metadata": {},
   "outputs": [],
   "source": [
    "import requests"
   ]
  },
  {
   "cell_type": "markdown",
   "id": "a066f71d-5555-4a6c-855f-3f01793aa5a2",
   "metadata": {},
   "source": [
    "#####"
   ]
  },
  {
   "cell_type": "markdown",
   "id": "5a84b235-0eb6-42cf-afb9-832d827bce31",
   "metadata": {},
   "source": [
    "#### 1.1 First GET Request"
   ]
  },
  {
   "cell_type": "markdown",
   "id": "212e8148-2761-4c26-a486-e2f0182f4b44",
   "metadata": {},
   "source": [
    "For our first request, we will use the following URL:\n",
    "\n",
    "url = \"https://api.agify.io/?name=PasteYourNameHere\"\n",
    "\n",
    "The requests library breaks this URL into multiple components internally to make the HTTPS request:\n",
    "\n",
    "1.\t**Protocol**: http or https\n",
    "2.\t**Domain**: api.agify.io\n",
    "3.\t**Query parameters**: ?name=YourNameHere"
   ]
  },
  {
   "cell_type": "code",
   "execution_count": 152,
   "id": "bf23b05c-fe76-4821-9ff4-09548b065995",
   "metadata": {},
   "outputs": [
    {
     "name": "stdout",
     "output_type": "stream",
     "text": [
      "200\n",
      "<Response [200]>\n"
     ]
    }
   ],
   "source": [
    "# Set the URL:\n",
    "url = \"https://api.agify.io/?name=YourNameHere\"\n",
    "\n",
    "# Your first GET request:\n",
    "response = requests.get(url)\n",
    "\n",
    "# Print the status_code to see if your code works:\n",
    "print(response.status_code)\n",
    "\n",
    "# Print the response as in text format\n",
    "print(response)"
   ]
  },
  {
   "cell_type": "markdown",
   "id": "cce68755-41c5-43a1-8f2b-2fb2012a8b30",
   "metadata": {},
   "source": [
    "#"
   ]
  },
  {
   "cell_type": "markdown",
   "id": "798849fd-b3de-442b-9687-f68fb265b7de",
   "metadata": {},
   "source": [
    "## 2. Response Object"
   ]
  },
  {
   "cell_type": "markdown",
   "id": "6a9b9a8c-e1a1-4599-bf3e-d6e155fb9f36",
   "metadata": {},
   "source": [
    "When you make a request using the **`requests`** library, it returns a **response object**.  \n",
    "\n",
    "This response object acts as a container that **wraps all the information sent back by the server**, including:  \n",
    "\n",
    "- The **status code**, which tells you whether the request was successful.\n",
    "- The **headers**, which contain metadata such as content type, encoding, server information, and more.\n",
    "- The **body** of the response, which can be accessed as raw text (`.text`), raw bytes (`.content`), or automatically parsed into a Python dictionary if the response is JSON (`.json()`)."
   ]
  },
  {
   "cell_type": "code",
   "execution_count": 97,
   "id": "c7c71d9d-5c56-482f-9dca-a1922dd3c355",
   "metadata": {},
   "outputs": [
    {
     "name": "stdout",
     "output_type": "stream",
     "text": [
      "Status code: 200\n",
      "Content-Type: application/json; charset=utf-8\n",
      "Text: {\"count\":0,\"name\":\"\",\"age\":null}\n",
      "JSON: {'count': 0, 'name': '', 'age': None}\n"
     ]
    }
   ],
   "source": [
    "# Status Code:\n",
    "print(\"Status code:\", response.status_code)\n",
    "\n",
    "# Headers:\n",
    "print(\"Content-Type:\", response.headers[\"Content-Type\"])\n",
    "\n",
    "# Raw text:\n",
    "print(\"Text:\", response.text)\n",
    "\n",
    "# JSON which is returned as a dict and therefore allows you to access the single of the request:\n",
    "print(\"JSON:\", response.json())"
   ]
  },
  {
   "cell_type": "markdown",
   "id": "412a3b90-bf56-47e2-b6ea-09e3d5af7b3c",
   "metadata": {},
   "source": [
    "######"
   ]
  },
  {
   "cell_type": "markdown",
   "id": "7295521a-2ebf-474e-9871-e721ab7d92bc",
   "metadata": {},
   "source": [
    "#### 2.1 Task:"
   ]
  },
  {
   "cell_type": "code",
   "execution_count": 101,
   "id": "46176632-8d96-433e-a96e-2b6f6f551110",
   "metadata": {},
   "outputs": [
    {
     "name": "stdout",
     "output_type": "stream",
     "text": [
      "Estimates Age: xxx for Name: xxx\n"
     ]
    }
   ],
   "source": [
    "# Task: Add name and age in the following string:\n",
    "print(\"Estimated Age:\",\"xxx\", \"for Name:\", \"xxx\")"
   ]
  },
  {
   "cell_type": "markdown",
   "id": "4df6009f-6016-4963-a11c-b1d7e1fd480f",
   "metadata": {},
   "source": [
    "#####"
   ]
  },
  {
   "cell_type": "markdown",
   "id": "ebdbc1aa-3310-4996-8da3-0b525479144d",
   "metadata": {},
   "source": [
    "#### 2.2 Key Attributes of Response Objects:"
   ]
  },
  {
   "cell_type": "markdown",
   "id": "cbae9e6f-5cb1-4ceb-b001-a52b61fa0d92",
   "metadata": {},
   "source": [
    "| Attribute    | Description                        | Example                            |\n",
    "|-------------|------------------------------------|-----------------------------------|\n",
    "| **status_code** | HTTP status code of the response   | 200, 404                          |\n",
    "| **headers**     | Dictionary of response headers     | response.headers[\"Content-Type\"]  |\n",
    "| **text**        | Response content as a string       | HTML or JSON string               |\n",
    "| **content**     | Raw bytes of the response          | For images or binary files        |\n",
    "| **json()**      | Parse JSON response into Python dict | response.json()                  |\n",
    "| **encoding**    | Character encoding                 | 'utf-8'                           |"
   ]
  },
  {
   "cell_type": "markdown",
   "id": "4e714398-3aa3-460c-ad91-8b74f548ba85",
   "metadata": {},
   "source": [
    "#"
   ]
  },
  {
   "cell_type": "markdown",
   "id": "948ec04b-04db-426d-8a9d-e1482642b89d",
   "metadata": {},
   "source": [
    "## 3. Query Parameters"
   ]
  },
  {
   "cell_type": "markdown",
   "id": "8e2730fe-65d1-4be2-ab1c-524d6807cd36",
   "metadata": {},
   "source": [
    "Query parameters are additional peices of information sent to the server in a URL, usually after a '?'.\n",
    "They tell the sever **What exactl we want from the resource**\n",
    "\n",
    "Lets check our URL again:\n",
    "\n",
    "url = \"https://api.agify.io/?name=PasteYourNameHere\"\n",
    "\n",
    "Here, \"name=PasteYourNameHere\" is the query parameter.\n",
    "\n",
    "---\n",
    "\n",
    "Instad of manually passing the query parameters to the URL, we can pass a dictionary to the params argument of **`requests`**:\n",
    "\n",
    "```python\n",
    "url = \"https://api.agify.io/\"\n",
    "params = {\"name\": \"alice\"}\n",
    "response = requests.get(url, params=params)\n",
    "data = response.json()"
   ]
  },
  {
   "cell_type": "code",
   "execution_count": 103,
   "id": "3df90e08-0256-4354-a0b2-161e34cf5d6d",
   "metadata": {},
   "outputs": [
    {
     "name": "stdout",
     "output_type": "stream",
     "text": [
      "{'count': 0, 'name': '', 'age': None}\n"
     ]
    }
   ],
   "source": [
    "# The URL is now split from the parameters:\n",
    "url = \"https://api.agify.io/\"\n",
    "params = {\"name\": \"\"}\n",
    "\n",
    "# The params need to be passed in requests:\n",
    "response = requests.get(url, params=params)\n",
    "data = response.json()\n",
    "\n",
    "# Lets check the data:\n",
    "print(data)"
   ]
  },
  {
   "cell_type": "markdown",
   "id": "f3bf9450-e631-4b5b-9a4e-0d66b1e9e144",
   "metadata": {},
   "source": [
    "#####"
   ]
  },
  {
   "cell_type": "markdown",
   "id": "edd023e8-307a-4f6e-ab10-52a9453ac684",
   "metadata": {},
   "source": [
    "#### 3.1 Task:"
   ]
  },
  {
   "cell_type": "code",
   "execution_count": 158,
   "id": "6ec7a2dd-db5b-4106-a5c0-13d37eeecaee",
   "metadata": {},
   "outputs": [
    {
     "name": "stdout",
     "output_type": "stream",
     "text": [
      "https://api.agify.io/?name=Malte&country_id=DE {'count': 2251, 'name': 'Malte', 'age': 44, 'country_id': 'DE'}\n",
      "\n"
     ]
    }
   ],
   "source": [
    "# Add the parameter country_id to params with DE and US as parameters (2 requests)\n",
    "url = \"https://api.agify.io/\"\n",
    "params_de = {\"name\": \"\"}\n",
    "params_us = \"\"\n",
    "\n",
    "# return the url and the json for the request:\n",
    "response_de = requests.get(url, params=params_de)\n",
    "print(response_de.url, response_de.json())\n",
    "\n",
    "# Do the same for the US:\n",
    "response_us = \"\"\n",
    "print(\"\")"
   ]
  },
  {
   "cell_type": "markdown",
   "id": "4ec707b6-d049-4e11-8bc2-47b398602ab8",
   "metadata": {},
   "source": [
    "#"
   ]
  },
  {
   "cell_type": "markdown",
   "id": "8800660c-5dad-462d-aa70-63d6a1a85a7f",
   "metadata": {},
   "source": [
    "## 4. JSON Responses"
   ]
  },
  {
   "cell_type": "markdown",
   "id": "ea791b0e-4d4c-48cf-bf4b-be4126f5ac51",
   "metadata": {},
   "source": [
    "**JSON** (JavaScript Object Notation) is a common format used for exchanging data between clients and servers.  \n",
    "\n",
    "- A lightweight data-interchange format  \n",
    "- Easy for humans to read and write, and for machines to parse  \n",
    "- Maps directly to Python dictionaries and lists  \n",
    "\n",
    "---\n",
    "\n",
    "**Example JSON from the Agify API:**  \n",
    "\n",
    "```json\n",
    "{\n",
    "  \"name\": \"alice\",\n",
    "  \"age\": 25,\n",
    "  \"count\": 1234\n",
    "}"
   ]
  },
  {
   "cell_type": "code",
   "execution_count": null,
   "id": "29da4bcf-e670-4e3f-a9a7-d64d8b0ba11d",
   "metadata": {},
   "outputs": [],
   "source": [
    "# Access the json data\n",
    "url = \"https://api.agify.io/?name=alice\"\n",
    "response = requests.get(url)\n",
    "data = response.json()\n",
    "\n",
    "# You can access the data in json like a dictionary:\n",
    "print(\"Name:\", data[\"name\"])\n",
    "print(\"Predicted Age:\", data[\"age\"])\n",
    "print(\"Sample Count:\", data[\"count\"])"
   ]
  },
  {
   "cell_type": "markdown",
   "id": "1ee78717-aa38-4ddf-9813-c4d7284d3f3f",
   "metadata": {},
   "source": [
    "#"
   ]
  },
  {
   "cell_type": "markdown",
   "id": "7db46b43-3aed-444e-9fb6-54e3c24f6c6d",
   "metadata": {},
   "source": [
    "## 5. Error Handeling"
   ]
  },
  {
   "cell_type": "markdown",
   "id": "8f979929-3509-47c6-9c3b-379974539c23",
   "metadata": {},
   "source": [
    "Error handling is a very important part of working with the **`requests`** library.  \n",
    "APIs and web pages might fail for a variety of reasons, such as:  \n",
    "\n",
    "- Wrong URLs or endpoints  \n",
    "- Invalid query parameters  \n",
    "- Server issues like timeouts or overload  \n",
    "- Permission problems (authentication/authorization errors)  \n",
    "\n",
    "---\n",
    "\n",
    "The **HTTP status code** helps to detect and categorize errors, as it indicates different patterns of success or failure:  \n",
    "\n",
    "- **200s** → The request was successful  \n",
    "- **300s** → The request was redirected  \n",
    "- **400s** → Client error (e.g., `404 Not Found`, `401 Unauthorized`)  \n",
    "- **500s** → Server error (e.g., `500 Internal Server Error`)\n",
    "\n",
    "---\n",
    "\n",
    "\n",
    "Potential errors can be handled easily using exceptions.  \n",
    "Here’s an example with `try` and `except`:  \n",
    "\n",
    "```python\n",
    "import requests\n",
    "\n",
    "try:\n",
    "    response = requests.get(\"https://api.agify.io/?name=alice\")\n",
    "    response.raise_for_status()\n",
    "    data = response.json()\n",
    "    print(\"Success:\", data)\n",
    "except requests.exceptions.HTTPError as e:\n",
    "    print(\"HTTP error occurred:\", e)"
   ]
  },
  {
   "cell_type": "code",
   "execution_count": 172,
   "id": "431696c5-0890-4f64-8599-6cf3304d5fbd",
   "metadata": {},
   "outputs": [
    {
     "name": "stdout",
     "output_type": "stream",
     "text": [
      "HTTP error occurred: 422 Client Error: Unprocessable Entity for url: https://api.agify.io/?test=test\n"
     ]
    }
   ],
   "source": [
    "try:\n",
    "    response = requests.get(\"https://api.agify.io/?test=test\")\n",
    "\n",
    "    # The method .raise_for_status() is requests method that automatically checks the HTTP status and raises an error is >299:\n",
    "    response.raise_for_status()\n",
    "    \n",
    "    data = response.json()\n",
    "    print(\"Success:\", data)\n",
    "\n",
    "# The raise_for_status() raises the errir requests.exceptions.HTTPError if the error is higher than >299:    \n",
    "except requests.exceptions.HTTPError as e:\n",
    "    print(\"HTTP error occurred:\", e)"
   ]
  }
 ],
 "metadata": {
  "kernelspec": {
   "display_name": "Python 3 (ipykernel)",
   "language": "python",
   "name": "python3"
  },
  "language_info": {
   "codemirror_mode": {
    "name": "ipython",
    "version": 3
   },
   "file_extension": ".py",
   "mimetype": "text/x-python",
   "name": "python",
   "nbconvert_exporter": "python",
   "pygments_lexer": "ipython3",
   "version": "3.12.9"
  }
 },
 "nbformat": 4,
 "nbformat_minor": 5
}
