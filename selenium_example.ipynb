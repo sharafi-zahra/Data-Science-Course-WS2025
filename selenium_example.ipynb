{
 "cells": [
  {
   "cell_type": "markdown",
   "id": "6446deab-093e-487c-9248-edb11789a104",
   "metadata": {},
   "source": [
    "# Selenium Introduction: Examples"
   ]
  },
  {
   "cell_type": "markdown",
   "id": "97e9383d-1151-4e44-864c-9690bab16982",
   "metadata": {},
   "source": [
    "This notebook provides an introduction to the **`Selenium`** library.  \n",
    "\n",
    "**`Selenium`** is widely used to automate and control web browsers, simulating human interactions such as clicking, typing, and navigating. Unlike libraries such as **`requests`**, which can only fetch static HTML, Selenium can scrape dynamic content that is loaded via JavaScript.\n",
    "\n",
    "The notebook will be structured in the following way:\n",
    "\n",
    "1. **Introduction and Setup**\n",
    "2. **Browser Control / Navigation**\n",
    "3. **Finding Elements**\n",
    "4. **Interacting with Elements**\n",
    "5. **Code Example**\n",
    "\n",
    "\n",
    "For this notebook, we will use **[scrapethissite.com](https://www.scrapethissite.com/)**, a website specifically designed for legal scraping practice."
   ]
  },
  {
   "cell_type": "markdown",
   "id": "5c370b1d-960a-46dd-9748-96ccf87474bc",
   "metadata": {},
   "source": [
    "#"
   ]
  },
  {
   "cell_type": "markdown",
   "id": "2c0957de-806d-4fa6-9a7e-72d33fa3d7e9",
   "metadata": {},
   "source": [
    "## 1. Introduction and Setup"
   ]
  },
  {
   "cell_type": "markdown",
   "id": "2d491640-262c-4994-9c77-0b50381b7752",
   "metadata": {},
   "source": [
    "To make **`Selenium`** run on your computer, you need to fulfill a few requirements.\n",
    "\n",
    "Start by importing the library:\n",
    "\n",
    "```python\n",
    "import selenium"
   ]
  },
  {
   "cell_type": "code",
   "execution_count": 15,
   "id": "a1a77986-ec13-449a-bbea-b4821c04e795",
   "metadata": {},
   "outputs": [],
   "source": [
    "import selenium\n",
    "from time import sleep\n",
    "from selenium import webdriver\n",
    "from selenium.webdriver.chrome.service import Service\n",
    "from selenium.webdriver.chrome.options import Options\n",
    "from webdriver_manager.chrome import ChromeDriverManager"
   ]
  },
  {
   "cell_type": "markdown",
   "id": "51911835-878d-4355-b2ea-30e05547b596",
   "metadata": {},
   "source": [
    "Selenium cannot directly communicate with the browser which makes a **browser-specific driver** that implements the standardized **WebDriver protocol** neccessary.\n",
    "The driver acts as a bridge between **`Selerium`** and the **browser** by translating the Python commands from **`Selerium`** into browser actions (e.g. click, navigate, type)\n",
    "\n",
    "\n",
    "You can use the **Chrome browser** to run Selenium.  \n",
    "\n",
    "- Chrome requires a **version-specific driver** called **ChromeDriver**.  \n",
    "- Download ChromeDriver here: [https://chromedriver.chromium.org/downloads](https://chromedriver.chromium.org/downloads)  \n",
    "\n",
    "To find your Chrome version: Open Chrome → Menu (⋮) → Help → About Google Chrome"
   ]
  },
  {
   "cell_type": "code",
   "execution_count": 20,
   "id": "1e7c7bbe-d544-4ab6-aa98-be14d9d88cee",
   "metadata": {},
   "outputs": [],
   "source": [
    "# You can skip the installation of the driver if you use the webdriver_manager library:\n",
    "# driver = webdriver.Chrome(service=Service(ChromeDriverManager().install()))\n",
    "driver = webdriver.Safari()"
   ]
  },
  {
   "cell_type": "code",
   "execution_count": 22,
   "id": "2a697151-41ae-4141-9c02-0c8195ea1297",
   "metadata": {},
   "outputs": [
    {
     "name": "stdout",
     "output_type": "stream",
     "text": [
      "Page title: Scrape This Site | A public sandbox for learning web scraping\n"
     ]
    }
   ],
   "source": [
    "# Test if your driver works:\n",
    "driver.get(\"https://www.scrapethissite.com\")\n",
    "print(\"Page title:\", driver.title)"
   ]
  },
  {
   "cell_type": "markdown",
   "id": "4d28be75-0b3d-4a7e-bb4a-4bd52654fe3f",
   "metadata": {},
   "source": [
    "After this step your browser should have opend automatically and opend the page of scrapethissite!"
   ]
  },
  {
   "cell_type": "markdown",
   "id": "a4be5474-9840-4a14-9efb-3966082c7706",
   "metadata": {},
   "source": [
    "#"
   ]
  },
  {
   "cell_type": "markdown",
   "id": "27085b13-4118-487d-931c-35d0246aaeac",
   "metadata": {},
   "source": [
    "## 2. Browser Control and Navigation"
   ]
  },
  {
   "cell_type": "markdown",
   "id": "ca0201af-e85c-4991-9f9d-73a8ca6f304e",
   "metadata": {},
   "source": [
    "In this section, you will learn how to **navigate between pages** and **open/close the browser properly** using Selenium.  \n",
    "The `driver` object in your code represents the browser and allows you to perform actions such as loading pages, refreshing, or moving forward/backward.  \n",
    "The following commands are the most important for basic browser control:\n",
    "\n",
    "**Navigation**\n",
    "- `driver.get(url)` - open the page behind the url\n",
    "- `driver.refresh()` - reload the page\n",
    "- `driver.back()` - navigate one page back\n",
    "- `driver.forward()` - navigate one page forward\n",
    "\n",
    "**Page Information**\n",
    "- `driver.title` - current page title (as seen above)\n",
    "- `driver.current_url` - current URL\n",
    "- `driver.page_source` - page_source\n",
    "\n",
    "**Close the browser**\n",
    "- `driver.quit()` - close the driver/ browser completely\n",
    "- `driver.close()` - just closes the current tab"
   ]
  },
  {
   "cell_type": "code",
   "execution_count": 24,
   "id": "364211c4-5e06-4db0-b49b-95e0d975db68",
   "metadata": {},
   "outputs": [
    {
     "name": "stdout",
     "output_type": "stream",
     "text": [
      "https://www.scrapethissite.com/\n"
     ]
    }
   ],
   "source": [
    "# Print current URL:\n",
    "print(driver.current_url)\n",
    "\n",
    "# Print page source (prints the complete HTML code of Scrape this Site):\n",
    "# print(driver.page_source)"
   ]
  },
  {
   "cell_type": "markdown",
   "id": "90d311cb-b10f-4ac8-8bef-2a982340c13d",
   "metadata": {},
   "source": [
    "#"
   ]
  },
  {
   "cell_type": "markdown",
   "id": "32e4f88f-0e31-4042-bb8a-8d29a3af8c28",
   "metadata": {},
   "source": [
    "## 3. Finding Elements"
   ]
  },
  {
   "cell_type": "markdown",
   "id": "0d733a76-83b2-4375-bd36-e68884fe9fe8",
   "metadata": {},
   "source": [
    "Pure browser navigation alone does not allow us to **interact with a page automatically**.  \n",
    "To make **`Selenium`** truly useful, we need to **click buttons, fill forms, and locate elements** on the page.  \n",
    "\n",
    "Finding elements enables us to **interact with the page** and **extract the data** we want.  \n",
    "\n",
    "**`Selenium`** interacts with elements via the **DOM** (Document Object Model), which represents the structure of the page in HTML.  \n",
    "This allows us to access elements using their **attributes** such as ID, class, name, or tag.\n",
    "\n",
    "**The most common attributes used for location are:**\n",
    "- **ID** - Locating by unique element ID\n",
    "- **Name** - Locating by HTML name attribute\n",
    "- **Class Name** - Locating by HTML class attribute\n",
    "- **Tag Name** - Locating by Tag Name e.g. `div`,`p`\n",
    "- **CSS Selector** - Locating by CSS path\n",
    "- **XPath** - Locating by XPath path\n",
    "\n",
    "**This translates into the following python codes:**\n",
    "- **ID** - `driver.find_element(By.ID, \"username\")`\n",
    "- **Name** - `driver.find_element(By.NAME, \"q\")`\n",
    "- **Class Name** - `driver.find_element(By.CLASS_NAME, \"quote\")`\n",
    "- **Tag Name** - `driver.find_elements(By.TAG_NAME, \"p\")`\n",
    "- **CSS Selector** - `driver.find_element(By.CSS_SELECTOR, \"div.content > p\")`\n",
    "- **XPath** - `driver.find_element(By.XPATH, \"//div[@class='quote']\")`\n",
    "\n",
    "To locate elements on a webpage, use the **browser inspector** by right-clicking → **Inspect**. This lets you examine the HTML structure and identify attributes like `id`, `class`, `name`, or `tag` to use in Selenium."
   ]
  },
  {
   "cell_type": "markdown",
   "id": "f2e2f27d-9315-4d6a-ac6a-3a1e621aa49b",
   "metadata": {},
   "source": [
    "######"
   ]
  },
  {
   "cell_type": "markdown",
   "id": "12e3819b-4193-4e77-acc2-29e030d759d6",
   "metadata": {},
   "source": [
    "#### 3.1 Task"
   ]
  },
  {
   "cell_type": "markdown",
   "id": "a66987c5-1c25-4a91-8777-cc54d1490392",
   "metadata": {},
   "source": [
    "Try to find the `id` of the **Sandbox** Tab on the page of **Srape This Site** with the help of **Inspect**"
   ]
  },
  {
   "cell_type": "code",
   "execution_count": 26,
   "id": "5668c6f3-4de3-48ec-a69e-0254cf064736",
   "metadata": {},
   "outputs": [],
   "source": [
    "# Import by to be able to select different elements:\n",
    "from selenium.webdriver.common.by import By\n",
    "\n",
    "# Check if your id returns an element:\n",
    "# element = driver.find_element(By.ID, \"\")\n",
    "\n",
    "# Check if you habe the right element:\n",
    "# print(\"Visible text:\", element.text + \", and underlying id:\", element.get_attribute(\"id\"))"
   ]
  },
  {
   "cell_type": "markdown",
   "id": "74c17f3e-9edb-48db-a313-127a6557b22b",
   "metadata": {},
   "source": [
    "#"
   ]
  },
  {
   "cell_type": "markdown",
   "id": "83c0e81e-d148-4b0a-b9d9-429bd02276fd",
   "metadata": {},
   "source": [
    "## 4. Interacting with Elements"
   ]
  },
  {
   "cell_type": "markdown",
   "id": "752cb516-f3f5-49bd-97e9-e571cbd1fc09",
   "metadata": {},
   "source": [
    "Once you have located the right element in the HTML and found it using Python,  \n",
    "you still need to **interact with it** to extract data or perform actions.  \n",
    "\n",
    "This section covers the **most commonly used actions** you usually perform on elements in Selenium:\n",
    "\n",
    "**Most common actions**\n",
    "- **Click** - `element.click`\n",
    "- **Type / Input** - `element.send_keys(\"Hello World\")`\n",
    "- **Clear Input** - `element.clear()`\n",
    "- **Submit** - `element.submit()`\n",
    "- **Check / Uncheck an element** - `if not element.is_selected():\n",
    "    element.click()`\n",
    "\n",
    "The goal for this section is to navigate to the **Sandbox** page and print the new **URL**"
   ]
  },
  {
   "cell_type": "code",
   "execution_count": 69,
   "id": "b7e20ecd-f9d1-4ba3-a305-968a5db3fe3b",
   "metadata": {},
   "outputs": [
    {
     "name": "stdout",
     "output_type": "stream",
     "text": [
      "https://www.scrapethissite.com/pages/forms/?q=Boston+Bruins\n"
     ]
    }
   ],
   "source": [
    "# Navigate to the next page by clicking the element:\n",
    "element = driver.find_element(By.ID, \"nav-sandbox\")\n",
    "\n",
    "# Click the element:\n",
    "element.click()\n",
    "\n",
    "# Check the new url:\n",
    "print(driver.current_url)"
   ]
  },
  {
   "cell_type": "markdown",
   "id": "615ed7e3-a187-444e-99cd-c419848f82e9",
   "metadata": {},
   "source": [
    "#"
   ]
  },
  {
   "cell_type": "markdown",
   "id": "9fa3a3e3-71bd-4c4e-a5fa-d310d2e2ffd1",
   "metadata": {},
   "source": [
    "## 5. Code Example"
   ]
  },
  {
   "cell_type": "markdown",
   "id": "3fa41edf-c58b-447c-8f93-674f04341e5f",
   "metadata": {},
   "source": [
    "The following code example combines the previous steps to extract data for a specific hockey team and store it in a **Pandas DataFrame**:"
   ]
  },
  {
   "cell_type": "code",
   "execution_count": 77,
   "id": "8f646156-44da-4f6f-9db3-232b0657fce0",
   "metadata": {},
   "outputs": [
    {
     "name": "stdout",
     "output_type": "stream",
     "text": [
      "https://www.scrapethissite.com/pages/\n",
      "Visible text: Hockey Teams: Forms, Searching and Pagination, and underlying link: https://www.scrapethissite.com/pages/forms/\n",
      "            Team Name  Year  Wins  Losses  OT Losses  Win %  Goals For (GF)  \\\n",
      "0       Boston Bruins  1990    44      24        NaN  0.550             299   \n",
      "1      Buffalo Sabres  1990    31      30        NaN  0.388             292   \n",
      "2      Calgary Flames  1990    46      26        NaN  0.575             344   \n",
      "3  Chicago Blackhawks  1990    49      23        NaN  0.613             284   \n",
      "4   Detroit Red Wings  1990    34      38        NaN  0.425             273   \n",
      "\n",
      "   Goals Against (GA)  + / -  \n",
      "0                 264     35  \n",
      "1                 278     14  \n",
      "2                 263     81  \n",
      "3                 211     73  \n",
      "4                 298    -25  \n"
     ]
    }
   ],
   "source": [
    "import pandas as pd\n",
    "from io import StringIO\n",
    "\n",
    "# Navigate to the next page by clicking the element:\n",
    "element = driver.find_element(By.ID, \"nav-sandbox\")\n",
    "\n",
    "# Click the element:\n",
    "element.click()\n",
    "\n",
    "# Check the new url:\n",
    "print(driver.current_url)\n",
    "\n",
    "sleep(1)\n",
    "# Navigate even further by clicking on one of the pages:\n",
    "element_2 = driver.find_element(By.XPATH, \"//a[@href='/pages/forms/']\")\n",
    "\n",
    "# Check the second element: \n",
    "print(\"Visible text:\", element_2.text + \", and underlying link:\", element_2.get_attribute(\"href\"))\n",
    "\n",
    "# Element is correct so we want to get the new href link\n",
    "href = element_2.get_attribute(\"href\")\n",
    "driver.get(href)\n",
    "\n",
    "sleep(1)\n",
    "# Look for the input field on the page and paste a value:\n",
    "element_input = driver.find_element(By.ID, \"q\")\n",
    "element_input.send_keys(\"Boston Bruins\")\n",
    "\n",
    "# Submit the input parameters:\n",
    "element_input.submit()\n",
    "\n",
    "# Get the raw HTML code and create different tables based on the tables in the code:\n",
    "html_hockey = driver.page_source\n",
    "tables = pd.read_html(StringIO(html_hockey))\n",
    "df = tables[0]\n",
    "print(df.head())"
   ]
  }
 ],
 "metadata": {
  "kernelspec": {
   "display_name": "Python 3 (ipykernel)",
   "language": "python",
   "name": "python3"
  },
  "language_info": {
   "codemirror_mode": {
    "name": "ipython",
    "version": 3
   },
   "file_extension": ".py",
   "mimetype": "text/x-python",
   "name": "python",
   "nbconvert_exporter": "python",
   "pygments_lexer": "ipython3",
   "version": "3.12.9"
  }
 },
 "nbformat": 4,
 "nbformat_minor": 5
}
