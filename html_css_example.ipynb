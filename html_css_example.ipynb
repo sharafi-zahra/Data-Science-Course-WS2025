{
 "cells": [
  {
   "cell_type": "markdown",
   "id": "16560c41-1a0b-463e-89b4-8cebff91bd20",
   "metadata": {},
   "source": [
    "First, we import Python’s built-in modules.\n",
    "    - os helps us handle file paths.\n",
    "    - webbrowser lets us open a webpage in the default browser.\n"
   ]
  },
  {
   "cell_type": "code",
   "execution_count": 4,
   "id": "481aa9ff-1b31-4da4-b6c6-a82481fc94f0",
   "metadata": {},
   "outputs": [],
   "source": [
    "import webbrowser\n",
    "import os"
   ]
  },
  {
   "cell_type": "markdown",
   "id": "c17cc6e0-7ff3-4595-a7e9-d2df38f1eb78",
   "metadata": {},
   "source": [
    "Next, we create some HTML code. This is just a string in Python, but it will become our webpage."
   ]
  },
  {
   "cell_type": "markdown",
   "id": "22d89f38-12f4-4e51-872f-7cda17d8af98",
   "metadata": {},
   "source": [
    "## 1. Rule\n",
    "Every HTML element is usually written with two tags:\n",
    "\n",
    "- **Opening tag:** `<tagname>`  \n",
    "- **Closing tag:** `</tagname>`  \n",
    "\n",
    "The closing tag is the same as the opening tag, but it has a `/` at the beginning."
   ]
  },
  {
   "cell_type": "markdown",
   "id": "3983a85b-c73a-47f7-824c-10701725af4f",
   "metadata": {},
   "source": [
    "#### Example code\n",
    "\n",
    "```html\n",
    "<p>This is a paragraph.</p>"
   ]
  },
  {
   "cell_type": "markdown",
   "id": "544d4830-7cbc-417a-8124-3238b33479a3",
   "metadata": {},
   "source": [
    "Each HTML code begins with the relevant `<html>` tag. Everything between the `<html>` and `</html>` tags would be present on the webpage under different sections, depending on the relevant tag. \n",
    "\n",
    "```html\n",
    "    <html>\n",
    "      .......\n",
    "    </html>"
   ]
  },
  {
   "cell_type": "markdown",
   "id": "123d6a39-3dd5-4fb0-bd7c-af8ae3271313",
   "metadata": {},
   "source": [
    "After that, our code can be divided into two sections: the **heading** and the **body** parts.  \n",
    "\n",
    "- The `<head> ... </head>` section contains information about the page, **not the content itself**.  \n",
    "- Styling and metadata are usually included in the heading.  \n",
    "- You can add the **title** for the page (the tab title) using the `<title>` tag as follows:\n",
    "\n",
    "```html\n",
    "<html>\n",
    "  <head>\n",
    "      <title>My first page</title>\n",
    "  </head>\n",
    "</html>"
   ]
  },
  {
   "cell_type": "markdown",
   "id": "9ff147cc-374c-42b7-a2db-99748fdb4946",
   "metadata": {},
   "source": [
    "In the `<body>` part, we can include headings, paragraphs, and links.\n",
    "Headings might vary from `<h1>` to `<h6>` depending on the size.\n",
    "\n",
    "```html\n",
    "<h1>Hello!</h1>\n",
    "<h2>This is a smaller heading</h2>\n",
    "<p>And this is a normal paragraph.</p>"
   ]
  },
  {
   "cell_type": "markdown",
   "id": "71b762a9-62f2-4865-9a42-b36ba37642d9",
   "metadata": {},
   "source": [
    "## Rule 2: \n",
    "Tags can be nested inside each other, but they must always **close in the reverse order** they were opened.  \n",
    "\n",
    "**Example:** You open `<body>` before `<p>`, so you must close `</p>` before `</body>`.  \n",
    "\n",
    "**Code so far:**\n",
    "```html\n",
    "    <html>\n",
    "  <head>\n",
    "    <title>My First Page</title>\n",
    "  </head>\n",
    "  <body>\n",
    "    <h1>Hello!</h1>\n",
    "    <p>This is my first webpage.</p>\n",
    "  </body>\n",
    "</html>"
   ]
  },
  {
   "cell_type": "markdown",
   "id": "d634e70d-72a1-49f3-9de3-a17e78036582",
   "metadata": {},
   "source": [
    "Now we learn about the `<a>` tag:\n",
    "\n",
    "- `<a>` stands for **anchor**.  \n",
    "- It creates a **hyperlink** (a clickable piece of text).  \n",
    "- The `href` attribute (short for \"hyperlink reference\") tells the browser **where the link should go**.\n",
    "\n",
    "**Example Line**\n",
    "\n",
    "```html\n",
    "<a href=\"https://example.com\">Click me</a>"
   ]
  },
  {
   "cell_type": "markdown",
   "id": "3a3046ff-b1e1-4ba9-94c8-bdd78c6dad62",
   "metadata": {},
   "source": [
    "The `<a>` tag always belongs in the **body** section and must include the **full address** for the link."
   ]
  },
  {
   "cell_type": "markdown",
   "id": "6999e85c-8d45-4053-9fa9-51e7b60d0fdc",
   "metadata": {},
   "source": [
    "**Important Note:** If we want Python to actually save this HTML into a file, we must treat it as a **string**.  \n",
    "\n",
    "In Python, multi-line text is written using triple quotes:  \n",
    "\n",
    "```python\n",
    "\"\"\" ... \"\"\""
   ]
  },
  {
   "cell_type": "code",
   "execution_count": 24,
   "id": "3f84f7ce-cf99-43a9-8b59-92f96afc11f4",
   "metadata": {},
   "outputs": [],
   "source": [
    "#Creating a string in Python\n",
    "html_code = \"\"\"\n",
    "<html>\n",
    "  <head>\n",
    "    <title>My First Page</title>\n",
    "  </head>\n",
    "  <body>\n",
    "    <h1>Hello!</h1>\n",
    "    <p>This is my first webpage.</p>\n",
    "    <a href=\"https://example.com\">Click me</a>\n",
    "  </body>\n",
    "</html>\n",
    "\"\"\""
   ]
  },
  {
   "cell_type": "markdown",
   "id": "f35af6f4-520b-4c06-89b3-fc87181e8aef",
   "metadata": {},
   "source": [
    "Then, before trying to open the code in the default web browser, we need to **save it**."
   ]
  },
  {
   "cell_type": "code",
   "execution_count": 28,
   "id": "63f3faa8-7b22-4432-b511-40e817e80469",
   "metadata": {},
   "outputs": [],
   "source": [
    "# Save the HTML into a file\n",
    "file_path = os.path.abspath(\"index.html\")\n",
    "with open(file_path, \"w\") as f:\n",
    "    f.write(html_code)"
   ]
  },
  {
   "cell_type": "code",
   "execution_count": 30,
   "id": "4762eeaa-0a3a-4504-a8d6-ed1c43a39925",
   "metadata": {},
   "outputs": [
    {
     "data": {
      "text/plain": [
       "True"
      ]
     },
     "execution_count": 30,
     "metadata": {},
     "output_type": "execute_result"
    }
   ],
   "source": [
    "# Open the file in the default browser\n",
    "webbrowser.open(f\"file://{file_path}\")"
   ]
  },
  {
   "cell_type": "markdown",
   "id": "5bba9caf-c6f8-468e-b0b7-7cc78376097e",
   "metadata": {},
   "source": [
    "# CSS Example\n",
    "Now, we will work on the \"design\" part of what was generated by the previous HTML code. First, we will work on including the code in our  HTML string."
   ]
  },
  {
   "cell_type": "markdown",
   "id": "c20d77c6-77c6-4d28-82d9-7cd9b012d50c",
   "metadata": {},
   "source": [
    "To add styling, we need to include `<style>...</style>` in the **head** portion of our HTML code:\n",
    "\n",
    "```html\n",
    "<head>\n",
    "  <style>\n",
    "    .....\n",
    "  </style>\n",
    "</head>"
   ]
  },
  {
   "cell_type": "markdown",
   "id": "557e157b-e204-4a59-b3b1-2d6b137ff6cf",
   "metadata": {},
   "source": [
    "In this way, we can work on the font, color, size, and decorations for the content in the body part as well as for the heading"
   ]
  },
  {
   "cell_type": "markdown",
   "id": "750603d3-ea89-471e-8669-e6e071b56cfd",
   "metadata": {},
   "source": [
    "\n",
    "Here is a list of commonly used CSS properties:\n",
    "\n",
    "1. font-family \n",
    "- Sets the typeface (font) of the text.  \n",
    "- Example: `font-family: Arial, sans-serif;`\n",
    "\n",
    "\n",
    "2. font-size \n",
    "- Controls how large the text appears.  \n",
    "- Example: `font-size: 20px;`\n",
    "\n",
    "\n",
    "3. color  \n",
    "- Changes the color of the text.  \n",
    "- Example: `color: navy;`\n",
    "\n",
    "\n",
    "4. background-color (or just background)  \n",
    "- Sets the background color of an element (like the whole page or a paragraph).  \n",
    "- Example: `background-color: lightgray;`\n",
    "\n",
    "\n",
    "5. text-align  \n",
    "- Defines how text is aligned inside its container.  \n",
    "- Options: `left`, `right`, `center`, `justify`.  \n",
    "- Example: `text-align: center;`\n",
    "\n",
    "\n",
    "6. padding \n",
    "- Adds inner space between the content and the element’s border.  \n",
    "- Example: `padding: 20px;`\n",
    "\n",
    "\n",
    "7. margin  \n",
    "- Adds outer space between the element and other elements around it.  \n",
    "- Example: `margin: 30px;`\n",
    "\n",
    "\n",
    "8. border  \n",
    "- Adds a border around an element.  \n",
    "- Example: `border: 2px solid black;`\n",
    "\n",
    "\n",
    "9. text-decoration  \n",
    "- Controls decorations like underline, overline, strike-through.  \n",
    "- Example: `text-decoration: none;`\n",
    "\n",
    "\n",
    "10. font-weight  \n",
    "- Defines how thick or bold the text is.  \n",
    "- Options: `normal`, `bold`, `lighter`, or numbers like `100`, `400`, `700`.  \n",
    "- Example: `font-weight: bold;`\n",
    "\n",
    "\n",
    "11. width / height\n",
    "- Sets the size of an element.  \n",
    "- Example: `width: 300px; height: 200px;`\n",
    "\n",
    "\n",
    "12. hover (pseudo-class)  \n",
    "- Changes the style when the user moves the mouse over an element.  \n",
    "- Example:  \n",
    "  a:hover {\n",
    "    color: red;\n",
    "  }\n",
    "    \n",
    "\n"
   ]
  },
  {
   "cell_type": "markdown",
   "id": "e611ae31-9699-4516-ab89-fbef877d92ce",
   "metadata": {},
   "source": [
    "Now, we can start with styling the body part. The styling of body applies to the whole webpage (sets the background color and font size, some of the properties might be changed in the future as well"
   ]
  },
  {
   "cell_type": "markdown",
   "id": "315f6516-571d-424c-94ec-5ffcbf0c9af4",
   "metadata": {},
   "source": [
    "```html\n",
    "<style>\n",
    "    body {\n",
    "        font-family: Verdana, sans-serif;\n",
    "        background: lightgray;\n",
    "        text-align: center;\n",
    "        padding: 40px;\n",
    "    }\n",
    "</style>\n"
   ]
  },
  {
   "cell_type": "markdown",
   "id": "7549efd7-aa99-4e72-bb2b-a0a2c241d70b",
   "metadata": {},
   "source": [
    "This way, we’ve customized the background color and applied text formatting to the page."
   ]
  },
  {
   "cell_type": "markdown",
   "id": "8400f19a-cfc0-435e-9a32-a57e5cdd949b",
   "metadata": {},
   "source": [
    "We can also work on separate parts of the body and set different size/color/font/etc. to them:"
   ]
  },
  {
   "cell_type": "markdown",
   "id": "0b489339-6a05-4b74-ae3a-e02562ef0882",
   "metadata": {},
   "source": [
    "Note: Colors might be called by their names or by the specific codes. CSS recognizes 140 color names"
   ]
  },
  {
   "cell_type": "markdown",
   "id": "cf11f580-b626-4699-a211-723bb66c8587",
   "metadata": {},
   "source": [
    "```css\n",
    "    h1 {\n",
    "        color: navy;\n",
    "        font-size: 36px;\n",
    "    }\n",
    "    p {\n",
    "        color: dimgray;\n",
    "        font-size: 18px;\n",
    "    }\n",
    "    a {\n",
    "        color: blue;\n",
    "        font-size: 20px;\n",
    "        text-decoration: none;\n",
    "    }"
   ]
  },
  {
   "cell_type": "markdown",
   "id": "1f6df9ce-090a-460e-8428-daa756bf52bb",
   "metadata": {},
   "source": [
    "Note: you do not need to add any separation marks between styling of different elements"
   ]
  },
  {
   "cell_type": "markdown",
   "id": "fc0f5c04-3814-48eb-9dc4-fce195ba0e88",
   "metadata": {},
   "source": [
    "The a-hover link we have can also have some styling. We can change it is color when it is clicked on in the following way:\n"
   ]
  },
  {
   "cell_type": "markdown",
   "id": "2eddaec4-a628-4031-aebc-744b105ddf60",
   "metadata": {},
   "source": [
    "```css\n",
    "a:hover {\n",
    "    color: red;\n",
    "}"
   ]
  },
  {
   "cell_type": "markdown",
   "id": "18d38829-a522-4f06-9bd0-5f29e134b642",
   "metadata": {},
   "source": [
    "So, in the very end, when you combine your HTML and CSS codes, you get this:"
   ]
  },
  {
   "cell_type": "code",
   "execution_count": 50,
   "id": "0c1d5318-83dc-4526-8f82-1117d0fc9c2c",
   "metadata": {},
   "outputs": [],
   "source": [
    "html_code_css = \"\"\"\n",
    "<html>\n",
    "  <head>\n",
    "    <title>My First Page</title>\n",
    "  </head>\n",
    "  <style>\n",
    "      body {\n",
    "        font-family: Verdana, sans-serif;\n",
    "        background: lightgray;\n",
    "        text-align: center;\n",
    "        padding: 40px;\n",
    "      }\n",
    "      h1 {\n",
    "        color: navy;\n",
    "        font-size: 36px;\n",
    "      }\n",
    "      p {\n",
    "        color: dimgray;\n",
    "        font-size: 18px;\n",
    "      }\n",
    "      a {\n",
    "        color: blue;\n",
    "        font-size: 20px;\n",
    "        text-decoration: none;\n",
    "      }\n",
    "      a:hover {\n",
    "        color: red;\n",
    "      }\n",
    "    </style>\n",
    "  <body>\n",
    "    <h1>Hello!</h1>\n",
    "    <p>This is my first webpage.</p>\n",
    "    <a href=\"https://example.com\">Click me</a>\n",
    "  </body>\n",
    "</html>\n",
    "\"\"\"\n"
   ]
  },
  {
   "cell_type": "code",
   "execution_count": 52,
   "id": "19d405f2-b5c5-41ca-a83d-d781e4b83eb8",
   "metadata": {},
   "outputs": [],
   "source": [
    "# Save the HTML into a file\n",
    "file_path = os.path.abspath(\"index.html\")\n",
    "with open(file_path, \"w\") as f:\n",
    "    f.write(html_code_css)"
   ]
  },
  {
   "cell_type": "code",
   "execution_count": 54,
   "id": "f68b4e36-b4c9-43f2-bf70-572e4176eb4c",
   "metadata": {},
   "outputs": [
    {
     "data": {
      "text/plain": [
       "True"
      ]
     },
     "execution_count": 54,
     "metadata": {},
     "output_type": "execute_result"
    }
   ],
   "source": [
    "# Open the file in the default browser\n",
    "webbrowser.open(f\"file://{file_path}\")"
   ]
  },
  {
   "cell_type": "code",
   "execution_count": null,
   "id": "2222be36-6113-4242-8ee9-5e530a1879ed",
   "metadata": {},
   "outputs": [],
   "source": []
  }
 ],
 "metadata": {
  "kernelspec": {
   "display_name": "Python 3 (ipykernel)",
   "language": "python",
   "name": "python3"
  },
  "language_info": {
   "codemirror_mode": {
    "name": "ipython",
    "version": 3
   },
   "file_extension": ".py",
   "mimetype": "text/x-python",
   "name": "python",
   "nbconvert_exporter": "python",
   "pygments_lexer": "ipython3",
   "version": "3.12.9"
  }
 },
 "nbformat": 4,
 "nbformat_minor": 5
}
